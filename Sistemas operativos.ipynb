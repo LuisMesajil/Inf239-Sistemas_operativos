{
 "cells": [
  {
   "cell_type": "code",
   "execution_count": 21,
   "metadata": {
    "collapsed": false
   },
   "outputs": [
    {
     "name": "stdout",
     "output_type": "stream",
     "text": [
      "Suma de frecuencias 1.0\n",
      "0.37\n"
     ]
    }
   ],
   "source": [
    "#Tiempo medio de acceso a byte\n",
    "\n",
    "memorias = {'t1':(0.1, 95), 't2':(1, 4.5), 't3':(20, 0.49), 't4':(1200, 0.01)}\n",
    "#Variables estáticas\n",
    "tiempo = 0\n",
    "porcentaje = 1\n",
    "#Variables acumulativas\n",
    "tmedio = 0\n",
    "sumatiempos = 0\n",
    "sumafrecuencias = 0\n",
    "for key in memorias:\n",
    "    frecuencia = memorias[key][porcentaje]/100 #Calculando frecuencia de acceso\n",
    "    sumatiempos += memorias[key][tiempo]\n",
    "    sumafrecuencias += frecuencia\n",
    "    tmedio += frecuencia*sumatiempos\n",
    "\n",
    "print (\"Suma de frecuencias\", sumafrecuencias)\n",
    "print (tmedio)"
   ]
  },
  {
   "cell_type": "code",
   "execution_count": null,
   "metadata": {
    "collapsed": true
   },
   "outputs": [],
   "source": []
  }
 ],
 "metadata": {
  "kernelspec": {
   "display_name": "Python 3",
   "language": "python",
   "name": "python3"
  },
  "language_info": {
   "codemirror_mode": {
    "name": "ipython",
    "version": 3
   },
   "file_extension": ".py",
   "mimetype": "text/x-python",
   "name": "python",
   "nbconvert_exporter": "python",
   "pygments_lexer": "ipython3",
   "version": "3.6.0"
  }
 },
 "nbformat": 4,
 "nbformat_minor": 2
}
